{
 "cells": [
  {
   "cell_type": "code",
   "execution_count": 2,
   "metadata": {},
   "outputs": [
    {
     "name": "stderr",
     "output_type": "stream",
     "text": [
      "USER_AGENT environment variable not set, consider setting it to identify your requests.\n"
     ]
    },
    {
     "data": {
      "text/plain": [
       "True"
      ]
     },
     "execution_count": 2,
     "metadata": {},
     "output_type": "execute_result"
    }
   ],
   "source": [
    "import os\n",
    "import dotenv\n",
    "from pathlib import Path\n",
    "\n",
    "from langchain_core.messages import AIMessage, HumanMessage\n",
    "from langchain_community.document_loaders.text import TextLoader\n",
    "from langchain_community.document_loaders import (\n",
    "    WebBaseLoader, \n",
    "    PyPDFLoader, \n",
    "    Docx2txtLoader,\n",
    ")\n",
    "from langchain_community.vectorstores import Chroma\n",
    "from langchain.text_splitter import RecursiveCharacterTextSplitter\n",
    "from langchain_openai import OpenAIEmbeddings, ChatOpenAI\n",
    "from langchain_anthropic import ChatAnthropic\n",
    "from langchain_core.prompts import ChatPromptTemplate, MessagesPlaceholder\n",
    "from langchain.chains import create_history_aware_retriever, create_retrieval_chain\n",
    "from langchain.chains.combine_documents import create_stuff_documents_chain\n",
    "\n",
    "dotenv.load_dotenv()"
   ]
  },
  {
   "cell_type": "code",
   "execution_count": 3,
   "metadata": {},
   "outputs": [],
   "source": [
    "# Load docs\n",
    "\n",
    "doc_paths = [\n",
    "    \"docs/test_rag.pdf\",\n",
    "    \"docs/test_rag.docx\",\n",
    "]\n",
    "\n",
    "docs = [] \n",
    "for doc_file in doc_paths:\n",
    "    file_path = Path(doc_file)\n",
    "\n",
    "    try:\n",
    "        if doc_file.endswith(\".pdf\"):\n",
    "            loader = PyPDFLoader(file_path)\n",
    "        elif doc_file.endswith(\".docx\"):\n",
    "            loader = Docx2txtLoader(file_path)\n",
    "        elif doc_file.endswith(\".txt\") or doc_file.name.endswith(\".md\"):\n",
    "            loader = TextLoader(file_path)\n",
    "        else:\n",
    "            print(f\"Document type {doc_file.type} not supported.\")\n",
    "            continue\n",
    "\n",
    "        docs.extend(loader.load())\n",
    "\n",
    "    except Exception as e:\n",
    "        print(f\"Error loading document {doc_file.name}: {e}\")\n",
    "\n",
    "\n",
    "# Load URLs\n",
    "\n",
    "url = \"https://docs.streamlit.io/develop/quick-reference/release-notes\"\n",
    "try:\n",
    "    loader = WebBaseLoader(url)\n",
    "    docs.extend(loader.load())\n",
    "\n",
    "except Exception as e:\n",
    "    print(f\"Error loading document from {url}: {e}\")"
   ]
  },
  {
   "cell_type": "code",
   "execution_count": 4,
   "metadata": {},
   "outputs": [
    {
     "data": {
      "text/plain": [
       "[Document(metadata={'source': 'docs\\\\test_rag.pdf', 'page': 0}, page_content='My favorite food is margarita pizza.  \\nThere are 47588 bottles in the tr uck.  '),\n",
       " Document(metadata={'source': 'docs\\\\test_rag.docx'}, page_content='My favorite food is margarita pizza.\\n\\nThere are 47588 bottles in the truck.'),\n",
       " Document(metadata={'source': 'https://docs.streamlit.io/develop/quick-reference/release-notes', 'title': 'Release notes - Streamlit Docs', 'description': 'A changelog of highlights and fixes for each version of Streamlit.', 'language': 'No language found.'}, page_content='Release notes - Streamlit DocsDocumentationsearchSearchrocket_launchGet startedInstallationaddFundamentalsaddFirst stepsaddcodeDevelopConceptsaddAPI referenceaddTutorialsaddQuick referenceremoveCheat sheetRelease notesremove202420232022202120202019Pre-release featuresRoadmapopen_in_newweb_assetDeployConceptsaddStreamlit Community CloudaddStreamlit in Snowflakeopen_in_newOther platformsaddschoolKnowledge baseFAQInstalling dependenciesDeployment issuesHome/Develop/Quick reference/Release notesRelease notes\\nThis page lists highlights, bug fixes, and known issues for the latest release of Streamlit. If you\\'re looking for information about nightly releases or experimental features, see Pre-release features.\\nUpgrade Streamlit\\nstarTipTo upgrade to the latest version of Streamlit, run:pip install --upgrade streamlit\\n\\nVersion 1.39.0 (latest)\\nRelease date: October 1, 2024\\nHighlights\\n\\n🎤\\xa0Introducing st.experimental_audio_input to let users record with their microphones!\\n📍\\xa0st.pydeck_chart can return selection events!\\n\\nNotable Changes\\n\\n😃 st.button, st.download_button, st.form_submit_button, st.link_button, and st.popover each have a new parameter to add an icon.\\n🏢 st.logo has a new parameter to adjust the size of your logo.\\n🧭 st.navigation lets you display an always-expanded or collapsible menu using a new expanded parameter.\\n↕️\\xa0You can set height and width for st.map and st.pydeck_chart.\\n↩️\\xa0Form submission behavior can be configured with a new enter_to_submit parameter (#9480, #7538, #9406, #8042).\\n⏱️ A new config option, server.disconnectedSessionTTL, lets you set a minimum time before a disconnected session is cleaned up (#9179).\\n🤹 Dataframes support multi-index headers (#9483, #6319).\\n\\nOther Changes\\n\\n🔑\\xa0Widget keys appear as HTML classes in the DOM with an st-key- prefix (#9295, #5437, #3888).\\n🔍\\xa0The StreamlitAPIException class has been extended into more specific exceptions for some of the most common errors (#9318).\\n🗺️ st.map and st.pydeck_chart have a full-screen toggle that matches the dataframe toolbar.\\n⬆️\\xa0Frontend dependencies for Vega have been upgraded (#9443, #9438).\\n🕵️\\xa0Streamlit is compatible with Watchdog version 5 (#9354). Thanks, RubenVanEldik!\\n🔁\\xa0Streamlit is compatible with Tenacity version 9 (#9348).\\n🔢\\xa0Bug fix: Column configuration will override any text or number format from pandas.Styler (#9538, #7329, #7977).\\n🦋\\xa0Bug fix: Deck GL zoom button has the correct border radius (#9536).\\n🦐\\xa0Bug fix: Embedded apps have the correct padding to avoid hiding elements (#9524, #9341).\\n🎨 Bug fix: The st.multiselect placeholder text has the correct color (#9523, #9514).\\n🧹\\xa0Bug fix: st.json scrolls horizontally instead of overflowing its container (#9521, #9520).\\n🌬️ Bug fix: Bokeh charts (temporarily) don\\'t have a fullscreen button to prevent horizontal scrolling (#9528, #2358).\\n🐡 Bug fix: Users are correctly redirected if they add a trailing slash to a page URL (#9500, #9127).\\n📁\\xa0Bug fix: st.Page warns developers against using subdirectories in url_path, which is not supported (#9499).\\n💩\\xa0Bug fix: Streamlit correctly calculates dataframe widths to prevent Minified React error #185: Maximum update depth exceeded (#9490, #7949).\\n☠️\\xa0Bug fix: ScriptRunContext handles the active script hash to avoid a race condition where widgets lose state in a multipage app (#9441, #9100).\\n🪱\\xa0Bug fix: PDFs don\\'t appear as plain text when hosted through static file serving in Streamlit (#9439, #9425).\\n👻\\xa0Bug fix: Fragment elements don\\'t disappear when used with custom components and callbacks (#9381, #9389, #9372).\\n👽\\xa0Bug fix: Streamlit watches the correct directory for file changes (#9453, #7467).\\n🦀\\xa0Bug fix: The sidebar navigation uses page count to determine when to display a \"show more\" button for more consistent behavior (#9394).\\n🦎\\xa0Bug fix: The internal script hash is updated at the beginning of a script run instead of the end for correct page routing when a script run is interrupted (#9408, #8975).\\n🐌\\xa0Bug fix: Bold formatting in headers is ignored (#9395, #4248).\\n🕸️\\xa0Bug fix: Streamlit correctly identifies the MIME type of more files to prevent custom components from not rendering (#9390, #9365). Thanks, t0mdavid-m!\\n🦗\\xa0Bug fix: The client.showSidebarNavigation configuration option works correctly with st.navigation (#9379).\\n🦂\\xa0Bug fix: Streamlit uses example.com instead of test.com in a health check to avoid unnecessary warnings (#9371). Thanks, wyattscarpenter!\\n🦟\\xa0Bug fix: st.Page will raise an error if it tries to initialize a page with an empty path (#9374, #8892).\\n🦠\\xa0Bug fix: An unchanged st.dialog can be programmatically reopened after a user has dismissed it (#9333, #9323).\\n🪰\\xa0Bug fix: Streamlit will not remove underscores from declared page titles in st.Page (#9375, #8890).\\n🪳\\xa0Bug fix: st.logo does not flicker when switching pages (#9361, #8815).\\n🕷️\\xa0Bug fix: st.data_editor allows users to re-add a row with the same index after deleting it (#8864, #8854).\\n🐞\\xa0Bug fix: st.logo maintains its aspect ratio when resized to fit within the sidebar width (#9368).\\n🐝\\xa0Bug fix: Streamlit correctly removes st.logo if not called during a rerun (#9337, #9336).\\n🐜\\xa0Bug fix: st.logo does not flicker when the sidebar changes its state (#9338).\\n🪲\\xa0Bug fix: Streamlit renders st.balloons and st.snow in a React Portal for improved rendering and compatibility with st.dialog (#9335, #9236).\\n🐛\\xa0Bug fix: Option labels are cleanly truncated when st.multiselect is displayed in a narrow container (#9334, #8213).\\n\\nOlder versions of Streamlit\\n\\n2024 release notes\\n2023 release notes\\n2022 release notes\\n2021 release notes\\n2020 release notes\\n2019 release notes\\nPrevious: Cheat sheetNext: 2024forumStill have questions?Our forums are full of helpful information and Streamlit experts.HomeContact UsCommunity© 2024 Snowflake Inc.Cookie policyforum Ask AI')]"
      ]
     },
     "execution_count": 4,
     "metadata": {},
     "output_type": "execute_result"
    }
   ],
   "source": [
    "docs"
   ]
  },
  {
   "cell_type": "code",
   "execution_count": 5,
   "metadata": {},
   "outputs": [],
   "source": [
    "# Split docs\n",
    "\n",
    "text_splitter = RecursiveCharacterTextSplitter(\n",
    "    chunk_size=5000,\n",
    "    chunk_overlap=1000,\n",
    ")\n",
    "\n",
    "document_chunks = text_splitter.split_documents(docs)"
   ]
  },
  {
   "cell_type": "code",
   "execution_count": 6,
   "metadata": {},
   "outputs": [
    {
     "name": "stdout",
     "output_type": "stream",
     "text": [
      "[Document(metadata={'source': 'docs\\\\test_rag.pdf', 'page': 0}, page_content='My favorite food is margarita pizza.  \\nThere are 47588 bottles in the tr uck.'), Document(metadata={'source': 'docs\\\\test_rag.docx'}, page_content='My favorite food is margarita pizza.\\n\\nThere are 47588 bottles in the truck.'), Document(metadata={'source': 'https://docs.streamlit.io/develop/quick-reference/release-notes', 'title': 'Release notes - Streamlit Docs', 'description': 'A changelog of highlights and fixes for each version of Streamlit.', 'language': 'No language found.'}, page_content=\"Release notes - Streamlit DocsDocumentationsearchSearchrocket_launchGet startedInstallationaddFundamentalsaddFirst stepsaddcodeDevelopConceptsaddAPI referenceaddTutorialsaddQuick referenceremoveCheat sheetRelease notesremove202420232022202120202019Pre-release featuresRoadmapopen_in_newweb_assetDeployConceptsaddStreamlit Community CloudaddStreamlit in Snowflakeopen_in_newOther platformsaddschoolKnowledge baseFAQInstalling dependenciesDeployment issuesHome/Develop/Quick reference/Release notesRelease notes\\nThis page lists highlights, bug fixes, and known issues for the latest release of Streamlit. If you're looking for information about nightly releases or experimental features, see Pre-release features.\\nUpgrade Streamlit\\nstarTipTo upgrade to the latest version of Streamlit, run:pip install --upgrade streamlit\\n\\nVersion 1.39.0 (latest)\\nRelease date: October 1, 2024\\nHighlights\\n\\n🎤\\xa0Introducing st.experimental_audio_input to let users record with their microphones!\\n📍\\xa0st.pydeck_chart can return selection events!\\n\\nNotable Changes\\n\\n😃 st.button, st.download_button, st.form_submit_button, st.link_button, and st.popover each have a new parameter to add an icon.\\n🏢 st.logo has a new parameter to adjust the size of your logo.\\n🧭 st.navigation lets you display an always-expanded or collapsible menu using a new expanded parameter.\\n↕️\\xa0You can set height and width for st.map and st.pydeck_chart.\\n↩️\\xa0Form submission behavior can be configured with a new enter_to_submit parameter (#9480, #7538, #9406, #8042).\\n⏱️ A new config option, server.disconnectedSessionTTL, lets you set a minimum time before a disconnected session is cleaned up (#9179).\\n🤹 Dataframes support multi-index headers (#9483, #6319).\\n\\nOther Changes\"), Document(metadata={'source': 'https://docs.streamlit.io/develop/quick-reference/release-notes', 'title': 'Release notes - Streamlit Docs', 'description': 'A changelog of highlights and fixes for each version of Streamlit.', 'language': 'No language found.'}, page_content='Version 1.39.0 (latest)\\nRelease date: October 1, 2024\\nHighlights\\n\\n🎤\\xa0Introducing st.experimental_audio_input to let users record with their microphones!\\n📍\\xa0st.pydeck_chart can return selection events!\\n\\nNotable Changes\\n\\n😃 st.button, st.download_button, st.form_submit_button, st.link_button, and st.popover each have a new parameter to add an icon.\\n🏢 st.logo has a new parameter to adjust the size of your logo.\\n🧭 st.navigation lets you display an always-expanded or collapsible menu using a new expanded parameter.\\n↕️\\xa0You can set height and width for st.map and st.pydeck_chart.\\n↩️\\xa0Form submission behavior can be configured with a new enter_to_submit parameter (#9480, #7538, #9406, #8042).\\n⏱️ A new config option, server.disconnectedSessionTTL, lets you set a minimum time before a disconnected session is cleaned up (#9179).\\n🤹 Dataframes support multi-index headers (#9483, #6319).\\n\\nOther Changes\\n\\n🔑\\xa0Widget keys appear as HTML classes in the DOM with an st-key- prefix (#9295, #5437, #3888).\\n🔍\\xa0The StreamlitAPIException class has been extended into more specific exceptions for some of the most common errors (#9318).\\n🗺️ st.map and st.pydeck_chart have a full-screen toggle that matches the dataframe toolbar.\\n⬆️\\xa0Frontend dependencies for Vega have been upgraded (#9443, #9438).\\n🕵️\\xa0Streamlit is compatible with Watchdog version 5 (#9354). Thanks, RubenVanEldik!\\n🔁\\xa0Streamlit is compatible with Tenacity version 9 (#9348).\\n🔢\\xa0Bug fix: Column configuration will override any text or number format from pandas.Styler (#9538, #7329, #7977).\\n🦋\\xa0Bug fix: Deck GL zoom button has the correct border radius (#9536).\\n🦐\\xa0Bug fix: Embedded apps have the correct padding to avoid hiding elements (#9524, #9341).\\n🎨 Bug fix: The st.multiselect placeholder text has the correct color (#9523, #9514).\\n🧹\\xa0Bug fix: st.json scrolls horizontally instead of overflowing its container (#9521, #9520).\\n🌬️ Bug fix: Bokeh charts (temporarily) don\\'t have a fullscreen button to prevent horizontal scrolling (#9528, #2358).\\n🐡 Bug fix: Users are correctly redirected if they add a trailing slash to a page URL (#9500, #9127).\\n📁\\xa0Bug fix: st.Page warns developers against using subdirectories in url_path, which is not supported (#9499).\\n💩\\xa0Bug fix: Streamlit correctly calculates dataframe widths to prevent Minified React error #185: Maximum update depth exceeded (#9490, #7949).\\n☠️\\xa0Bug fix: ScriptRunContext handles the active script hash to avoid a race condition where widgets lose state in a multipage app (#9441, #9100).\\n🪱\\xa0Bug fix: PDFs don\\'t appear as plain text when hosted through static file serving in Streamlit (#9439, #9425).\\n👻\\xa0Bug fix: Fragment elements don\\'t disappear when used with custom components and callbacks (#9381, #9389, #9372).\\n👽\\xa0Bug fix: Streamlit watches the correct directory for file changes (#9453, #7467).\\n🦀\\xa0Bug fix: The sidebar navigation uses page count to determine when to display a \"show more\" button for more consistent behavior (#9394).\\n🦎\\xa0Bug fix: The internal script hash is updated at the beginning of a script run instead of the end for correct page routing when a script run is interrupted (#9408, #8975).\\n🐌\\xa0Bug fix: Bold formatting in headers is ignored (#9395, #4248).\\n🕸️\\xa0Bug fix: Streamlit correctly identifies the MIME type of more files to prevent custom components from not rendering (#9390, #9365). Thanks, t0mdavid-m!\\n🦗\\xa0Bug fix: The client.showSidebarNavigation configuration option works correctly with st.navigation (#9379).\\n🦂\\xa0Bug fix: Streamlit uses example.com instead of test.com in a health check to avoid unnecessary warnings (#9371). Thanks, wyattscarpenter!\\n🦟\\xa0Bug fix: st.Page will raise an error if it tries to initialize a page with an empty path (#9374, #8892).\\n🦠\\xa0Bug fix: An unchanged st.dialog can be programmatically reopened after a user has dismissed it (#9333, #9323).\\n🪰\\xa0Bug fix: Streamlit will not remove underscores from declared page titles in st.Page (#9375, #8890).\\n🪳\\xa0Bug fix: st.logo does not flicker when switching pages (#9361, #8815).\\n🕷️\\xa0Bug fix: st.data_editor allows users to re-add a row with the same index after deleting it (#8864, #8854).\\n🐞\\xa0Bug fix: st.logo maintains its aspect ratio when resized to fit within the sidebar width (#9368).\\n🐝\\xa0Bug fix: Streamlit correctly removes st.logo if not called during a rerun (#9337, #9336).\\n🐜\\xa0Bug fix: st.logo does not flicker when the sidebar changes its state (#9338).\\n🪲\\xa0Bug fix: Streamlit renders st.balloons and st.snow in a React Portal for improved rendering and compatibility with st.dialog (#9335, #9236).\\n🐛\\xa0Bug fix: Option labels are cleanly truncated when st.multiselect is displayed in a narrow container (#9334, #8213).\\n\\nOlder versions of Streamlit\\n\\n2024 release notes\\n2023 release notes\\n2022 release notes\\n2021 release notes\\n2020 release notes\\n2019 release notes\\nPrevious: Cheat sheetNext: 2024forumStill have questions?Our forums are full of helpful information and Streamlit experts.HomeContact UsCommunity© 2024 Snowflake Inc.Cookie policyforum Ask AI')]\n"
     ]
    }
   ],
   "source": [
    "print(document_chunks)"
   ]
  },
  {
   "cell_type": "code",
   "execution_count": 7,
   "metadata": {},
   "outputs": [],
   "source": [
    "# Tokenize and load the documents to the vector store\n",
    "\n",
    "vector_db = Chroma.from_documents(\n",
    "    documents=document_chunks,\n",
    "    embedding=OpenAIEmbeddings(),\n",
    ")"
   ]
  },
  {
   "cell_type": "code",
   "execution_count": 8,
   "metadata": {},
   "outputs": [
    {
     "name": "stdout",
     "output_type": "stream",
     "text": [
      "<langchain_community.vectorstores.chroma.Chroma object at 0x0000023AA67147A0>\n"
     ]
    }
   ],
   "source": [
    "print(vector_db)"
   ]
  },
  {
   "cell_type": "code",
   "execution_count": 6,
   "metadata": {},
   "outputs": [],
   "source": [
    "# Retrieve\n",
    "\n",
    "def _get_context_retriever_chain(vector_db, llm):\n",
    "    retriever = vector_db.as_retriever()\n",
    "    prompt = ChatPromptTemplate.from_messages([\n",
    "        MessagesPlaceholder(variable_name=\"messages\"),\n",
    "        (\"user\", \"{input}\"),\n",
    "        (\"user\", \"Given the above conversation, generate a search query to look up in order to get inforamtion relevant to the conversation, focusing on the most recent messages.\"),\n",
    "    ])\n",
    "    retriever_chain = create_history_aware_retriever(llm, retriever, prompt)\n",
    "\n",
    "    return retriever_chain"
   ]
  },
  {
   "cell_type": "code",
   "execution_count": 7,
   "metadata": {},
   "outputs": [],
   "source": [
    "def get_conversational_rag_chain(llm):\n",
    "    retriever_chain = _get_context_retriever_chain(vector_db, llm)\n",
    "\n",
    "    prompt = ChatPromptTemplate.from_messages([\n",
    "        (\"system\",\n",
    "        \"\"\"You are a helpful assistant. You will have to answer to user's queries.\n",
    "        You will have some context to help with your answers, but now always would be completely related or helpful.\n",
    "        You can also use your knowledge to assist answering the user's queries.\\n\n",
    "        {context}\"\"\"),\n",
    "        MessagesPlaceholder(variable_name=\"messages\"),\n",
    "        (\"user\", \"{input}\"),\n",
    "    ])\n",
    "    stuff_documents_chain = create_stuff_documents_chain(llm, prompt)\n",
    "\n",
    "    return create_retrieval_chain(retriever_chain, stuff_documents_chain)"
   ]
  },
  {
   "cell_type": "code",
   "execution_count": 10,
   "metadata": {},
   "outputs": [
    {
     "name": "stdout",
     "output_type": "stream",
     "text": [
      "The latest version of Streamlit is 1.38.0, released on August 27, 2024. Would you like to know more about the highlights or changes in this version?"
     ]
    }
   ],
   "source": [
    "# Augmented Generation\n",
    "\n",
    "llm_stream_openai = ChatOpenAI(\n",
    "    model=\"gpt-4o\",  # Here you could use \"o1-preview\" or \"o1-mini\" if you already have access to them\n",
    "    temperature=0.3,\n",
    "    streaming=True,\n",
    ")\n",
    "\n",
    "llm_stream_anthropic = ChatAnthropic(\n",
    "    model=\"claude-3-5-sonnet-20240620\",\n",
    "    temperature=0.3,\n",
    "    streaming=True,\n",
    ")\n",
    "\n",
    "llm_stream = llm_stream_openai  # Select between OpenAI and Anthropic models for the response\n",
    "\n",
    "messages = [\n",
    "    {\"role\": \"user\", \"content\": \"Hi\"},\n",
    "    {\"role\": \"assistant\", \"content\": \"Hi there! How can I assist you today?\"},\n",
    "    {\"role\": \"user\", \"content\": \"What is the latest version of Streamlit?\"},\n",
    "]\n",
    "messages = [HumanMessage(content=m[\"content\"]) if m[\"role\"] == \"user\" else AIMessage(content=m[\"content\"]) for m in messages]\n",
    "\n",
    "conversation_rag_chain = get_conversational_rag_chain(llm_stream)\n",
    "response_message = \"*(RAG Response)*\\n\"\n",
    "for chunk in conversation_rag_chain.pick(\"answer\").stream({\"messages\": messages[:-1], \"input\": messages[-1].content}):\n",
    "    response_message += chunk\n",
    "    print(chunk, end=\"\", flush=True)\n",
    "\n",
    "messages.append({\"role\": \"assistant\", \"content\": response_message})"
   ]
  },
  {
   "cell_type": "code",
   "execution_count": null,
   "metadata": {},
   "outputs": [],
   "source": []
  },
  {
   "cell_type": "code",
   "execution_count": 2,
   "metadata": {},
   "outputs": [
    {
     "name": "stdout",
     "output_type": "stream",
     "text": [
      "Sure! Microsoft Azure, commonly referred to as Azure, is a cloud computing platform and service created by Microsoft. It provides a wide range of cloud services, including those for computing, analytics, storage, and networking. Users can choose and configure these services to develop and scale new applications or run existing applications in the public cloud.\n",
      "\n",
      "Here are some key aspects of Azure:\n",
      "\n",
      "1. **Compute Services**: Azure offers virtual machines, containers, and serverless computing options. This includes Azure Virtual Machines, Azure Kubernetes Service (AKS), and Azure Functions.\n",
      "\n",
      "2. **Storage Solutions**: Azure provides scalable cloud storage solutions such as Azure Blob Storage, Azure Disk Storage, and Azure File Storage. These services cater to different data storage needs, from unstructured data to persistent disk storage.\n",
      "\n",
      "3. **Networking**: Azure offers a variety of networking services, including Azure Virtual Network, Azure Load Balancer, and Azure Application Gateway. These services help in building secure and high-performance network architectures.\n",
      "\n",
      "4. **Databases**: Azure supports multiple database services, including Azure SQL Database, Azure Cosmos DB, and Azure Database for MySQL, PostgreSQL, and MariaDB. These managed database services offer high availability, scalability, and security.\n",
      "\n",
      "5. **AI and Machine Learning**: Azure provides a suite of AI and machine learning services, such as Azure Machine Learning, Azure Cognitive Services, and Azure Bot Service. These tools help developers build intelligent applications.\n",
      "\n",
      "6. **Analytics**: Azure offers a range of analytics services, including Azure Synapse Analytics, Azure HDInsight, and Azure Data Lake Analytics. These services enable big data processing and advanced analytics.\n",
      "\n",
      "7. **DevOps**: Azure DevOps provides development tools for continuous integration and continuous delivery (CI/CD). It includes services like Azure Pipelines, Azure Repos, and Azure Artifacts.\n",
      "\n",
      "8. **Security and Compliance**: Azure emphasizes security with services like Azure Security Center, Azure Active Directory, and Azure Key Vault. It also complies with numerous international and industry-specific standards.\n",
      "\n",
      "9. **IoT**: Azure IoT Hub and Azure IoT Central are services designed to connect, monitor, and manage IoT devices at scale.\n",
      "\n",
      "10. **Hybrid Cloud**: Azure supports hybrid cloud environments with services like Azure Arc and Azure Stack, allowing businesses to run Azure services on-premises or in other cloud environments.\n",
      "\n",
      "11. **Management and Governance**: Azure provides tools for managing and governing cloud resources, such as Azure Policy, Azure Cost Management, and Azure Monitor.\n",
      "\n",
      "Azure is known for its global reach, with data centers in numerous regions worldwide, providing low-latency access and data residency options. It supports a wide range of programming languages, frameworks, and operating systems, making it a versatile choice for developers and enterprises.\n",
      "\n",
      "Overall, Azure is a comprehensive cloud platform that helps organizations innovate, scale, and manage their IT resources efficiently."
     ]
    }
   ],
   "source": [
    "import os\n",
    "from langchain_openai import AzureChatOpenAI\n",
    "import dotenv\n",
    "\n",
    "dotenv.load_dotenv()\n",
    "\n",
    "llm_stream = AzureChatOpenAI(\n",
    "    azure_endpoint=os.getenv(\"AZ_OPENAI_ENDPOINT\"),\n",
    "    openai_api_version=\"2024-02-15-preview\",\n",
    "    model_name=\"gpt-4o\",\n",
    "    openai_api_key=os.getenv(\"AZ_OPENAI_API_KEY\"),\n",
    "    openai_api_type=\"azure\",\n",
    "    temperature=0.3,\n",
    "    streaming=True,\n",
    ")\n",
    "\n",
    "prompt = \"Tell me something about Azure\"\n",
    "\n",
    "for chunk in llm_stream.stream(prompt):\n",
    "    print(chunk.content, end=\"\", flush=True)"
   ]
  }
 ],
 "metadata": {
  "kernelspec": {
   "display_name": ".venv",
   "language": "python",
   "name": "python3"
  },
  "language_info": {
   "codemirror_mode": {
    "name": "ipython",
    "version": 3
   },
   "file_extension": ".py",
   "mimetype": "text/x-python",
   "name": "python",
   "nbconvert_exporter": "python",
   "pygments_lexer": "ipython3",
   "version": "3.12.5"
  }
 },
 "nbformat": 4,
 "nbformat_minor": 2
}
